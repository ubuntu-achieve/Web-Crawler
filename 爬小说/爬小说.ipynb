{
 "cells": [
  {
   "cell_type": "markdown",
   "id": "958ddb51",
   "metadata": {},
   "source": [
    "[我的崩坏语音包被刻晴当真喽](https://www.trxs.me/tongren/6328/1.html)"
   ]
  },
  {
   "cell_type": "code",
   "execution_count": 1,
   "id": "bbd03903",
   "metadata": {},
   "outputs": [],
   "source": [
    "from tqdm import tqdm\n",
    "import requests\n",
    "from bs4 import BeautifulSoup"
   ]
  },
  {
   "cell_type": "code",
   "execution_count": 7,
   "id": "4eeba309",
   "metadata": {},
   "outputs": [],
   "source": [
    "url_1 = 'https://www.trxs.me/tongren/6328/'\n",
    "url_2 = '.html'"
   ]
  },
  {
   "cell_type": "code",
   "execution_count": 10,
   "id": "e22c0df4",
   "metadata": {
    "scrolled": true
   },
   "outputs": [
    {
     "name": "stderr",
     "output_type": "stream",
     "text": [
      "100%|████████████████████████████████████████████████████████████████████████████████| 295/295 [06:24<00:00,  1.30s/it]\n"
     ]
    }
   ],
   "source": [
    "title = '简介'\n",
    "section = ''\n",
    "num = 0\n",
    "for i in tqdm(range(295)):\n",
    "    page = requests.get(url_1 + f'{i+1}' + url_2)\n",
    "    page.encoding='gbk'\n",
    "    html = BeautifulSoup(page.text,\"html.parser\")\n",
    "    story = html.find_all('div',attrs={'class':'read_chapterDetail'})\n",
    "    story = str(story).replace('<p>','').replace('[<div class=\"read_chapterDetail\">\\n','').replace('</div>]','').replace('</p>','\\n')\n",
    "    section += story\n",
    "    while True:\n",
    "        if f'{num+1}-' in section:\n",
    "            index = section.index(f'{num+1}-')  # 下一章的标题索引\n",
    "            try:\n",
    "                with open('我的崩坏语音包被刻晴当真喽.txt','a') as f:\n",
    "                    f.write(f'\\n第{num}章    {title}\\n')\n",
    "                    f.write(section[:index])\n",
    "            except:\n",
    "                with open('我的崩坏语音包被刻晴当真喽.txt','a') as f:\n",
    "                    f.write(f'\\n章节审核未通过\\n')\n",
    "            section = section[index+len(f'{num+1}-'):]\n",
    "            title = section[:section.index('\\n')]\n",
    "            section = section[section.index('\\n'):]\n",
    "            num += 1\n",
    "        else:\n",
    "            break"
   ]
  },
  {
   "cell_type": "markdown",
   "id": "080878be",
   "metadata": {},
   "source": [
    "[从大罪教司开始当反派](http://www.ywggzy.com/bxwx/26392/)"
   ]
  },
  {
   "cell_type": "code",
   "execution_count": 2,
   "id": "9b6f262a",
   "metadata": {},
   "outputs": [],
   "source": [
    "from tqdm import tqdm\n",
    "import requests\n",
    "from bs4 import BeautifulSoup"
   ]
  },
  {
   "cell_type": "code",
   "execution_count": 3,
   "id": "8df65541",
   "metadata": {},
   "outputs": [],
   "source": [
    "url = 'http://www.ywggzy.com/bxwx/26392/'\n",
    "string1 = '\\n章节错误,点此举报(免注册),举报后维护人员会在两分钟内校正章节内容,请耐心等待,并刷新页面。\\r\\n                        '\n",
    "string2 = '\\u3000\\u3000'"
   ]
  },
  {
   "cell_type": "code",
   "execution_count": 4,
   "id": "ff28a450",
   "metadata": {},
   "outputs": [],
   "source": [
    "web = requests.get(url)\n",
    "html = BeautifulSoup(web.text,\"html.parser\")\n",
    "section = BeautifulSoup(str(html.find_all('ul',attrs={'class':'section-list fix'})[1])\n",
    "              ,'html.parser').find_all('a',attrs={'herf':''})"
   ]
  },
  {
   "cell_type": "code",
   "execution_count": 7,
   "id": "3cbcaf2b",
   "metadata": {},
   "outputs": [
    {
     "name": "stderr",
     "output_type": "stream",
     "text": [
      "100%|████████████████████████████████████████████████████████████████████████████████| 246/246 [07:42<00:00,  1.88s/it]\n"
     ]
    }
   ],
   "source": [
    "with open('从大罪教司开始当反派.txt','a') as f:\n",
    "    for i in tqdm(range(len(section))):\n",
    "        try:\n",
    "            f.write('\\n'+str(section[i].text)+'\\n\\n')\n",
    "            section[i] = str(section[i])\n",
    "            page = BeautifulSoup(requests.get(url+section[i][section[i].find('\"')+1:section[i].find('l')+1]).text,'html.parser')\n",
    "            f.write(str(page.find('div',attrs={'id':'content'}).text).replace(string2,'\\n').replace(string1,'').replace('\\n\\n','\\n'))\n",
    "            view = requests.get(url + section[i][section[i].find('\"')+1:section[i].find('l')-4] + '_2.html')\n",
    "            if view.status_code == 200:\n",
    "                page = BeautifulSoup(view.text,'html.parser')\n",
    "                f.write(str(page.find('div',attrs={'id':'content'}).text).replace(string2,'\\n').replace(string1,'').replace('\\n\\n','\\n'))\n",
    "        except:\n",
    "            f.write('\\n该章节审核未通过\\n')"
   ]
  },
  {
   "cell_type": "markdown",
   "id": "4998a9df",
   "metadata": {},
   "source": [
    "[与神互换双手的罗德岛外科医生](https://www.sunsilu.com/186890/)"
   ]
  },
  {
   "cell_type": "code",
   "execution_count": 1,
   "id": "54b2bbce",
   "metadata": {},
   "outputs": [],
   "source": [
    "import os\n",
    "import requests\n",
    "from tqdm import tqdm\n",
    "from lxml import etree\n",
    "from bs4 import BeautifulSoup"
   ]
  },
  {
   "cell_type": "code",
   "execution_count": 2,
   "id": "b8555c53",
   "metadata": {},
   "outputs": [],
   "source": [
    "# 在 原xpath末尾添加“/@href”用于查找该位置存储的链接，添加“//text()”用于查找该位置存储的文本\n",
    "page_xpath = '//*[@id=\"chapter\"]/div[1]/a[3]/@href'\n",
    "home_url   = 'https://www.sunsilu.com'\n",
    "url        = 'https://www.sunsilu.com/186890/74492108.html'\n",
    "useless    = [\n",
    "    '谨记我们的网址，祝大家阅读愉快！',\n",
    "    '别忘了多多宣传宣传。m.x'\n",
    "    '\\r\\n\\t'\n",
    "]\n",
    "write_path = r'C:\\Users\\ahzt\\Downloads'"
   ]
  },
  {
   "cell_type": "code",
   "execution_count": 3,
   "id": "058f93db",
   "metadata": {},
   "outputs": [],
   "source": [
    "novel = {}"
   ]
  },
  {
   "cell_type": "code",
   "execution_count": 27,
   "id": "2d7eb58b",
   "metadata": {},
   "outputs": [
    {
     "name": "stdout",
     "output_type": "stream",
     "text": [
      "章节26.天火读取到空内容，其网址为https://www.sunsilu.com/186890/75838491_2.html\n",
      "章节47.开始熟悉罗德岛！读取到空内容，其网址为https://www.sunsilu.com/186890/75838533_2.html\n",
      "章节50.火神读取到空内容，其网址为https://www.sunsilu.com/186890/75838538_2.html\n",
      "章节59.w小姐@闲逛中读取到空内容，其网址为https://www.sunsilu.com/186890/75838555_2.html\n",
      "章节39.一直的思念读取到空内容，其网址为https://www.sunsilu.com/186890/75838708_2.html\n",
      "章节75.“你总是来晚一步”读取到空内容，其网址为https://www.sunsilu.com/186890/75838778_2.html\n",
      "章节87.再次并肩而战读取到空内容，其网址为https://www.sunsilu.com/186890/75838804_2.html\n",
      "章节10.小 心 哒 不 溜读取到空内容，其网址为https://www.sunsilu.com/186890/75838828_2.html\n",
      "章节16.短暂旅行读取到空内容，其网址为https://www.sunsilu.com/186890/75838841_2.html\n",
      "章节22.w和吻和性和爱，还有番茄读取到空内容，其网址为https://www.sunsilu.com/186890/75838850_2.html\n",
      "章节27.火神的“赠礼”读取到空内容，其网址为https://www.sunsilu.com/186890/75838856_2.html\n",
      "章节44.门先生读取到空内容，其网址为https://www.sunsilu.com/186890/75838890_2.html\n",
      "章节67.佛像读取到空内容，其网址为https://www.sunsilu.com/186890/80510585_2.html\n",
      "章节71.佛像后的血肉读取到空内容，其网址为https://www.sunsilu.com/186890/80510729_2.html\n",
      "章节82.一具残尸读取到空内容，其网址为https://www.sunsilu.com/186890/80511005_2.html\n",
      "章节85.长岛的远古读取到空内容，其网址为https://www.sunsilu.com/186890/80511011_2.html\n",
      "章节89.适合赴死读取到空内容，其网址为https://www.sunsilu.com/186890/80511021_2.html\n",
      "读取完成--开始写入！\n"
     ]
    },
    {
     "name": "stderr",
     "output_type": "stream",
     "text": [
      "100%|█████████████████████████████████████████████████████████| 389/389 [00:00<00:00, 21716.24it/s]\n"
     ]
    }
   ],
   "source": [
    "while True:\n",
    "    # 获取原网页\n",
    "    source_page = requests.get(url)\n",
    "    # 获取网页编码格式并调整读取格式\n",
    "    page_text = source_page.content.decode(requests.utils.get_encodings_from_content(source_page.text)[0])\n",
    "    tree = etree.HTML(page_text)\n",
    "    # 获取本章标题\n",
    "    title = tree.xpath('//*[@id=\"chapter\"]/h2//text()')[0]\n",
    "    # 获取本章内容\n",
    "    try:\n",
    "        content = tree.xpath('//*[@id=\"content\"]/p//text()')\n",
    "        if useless[0] in content[0] or useless[1] in content[0]:\n",
    "            content = content[1:]\n",
    "        elif content[-1] in useless:\n",
    "            content = content[:-1]\n",
    "        content = '\\n'.join(content)\n",
    "        # 存入\n",
    "        if title in novel.keys():\n",
    "            novel[title] = novel[title] + '\\n' + content\n",
    "        else:\n",
    "            novel[title] = content\n",
    "        print('\\r已读取{:3}个章节'.format(len(novel)), end='')\n",
    "    except:\n",
    "        print(f'\\r章节   {title}   读取到空内容，其网址为{url}')\n",
    "    # 获取下一章节链接\n",
    "    url = home_url+tree.xpath(page_xpath)[0]\n",
    "    if url == 'https://www.sunsilu.com/186890/':\n",
    "        break\n",
    "print('\\r读取完成--开始写入！')\n",
    "# 写入\n",
    "with open(os.path.join(write_path, '与神互换双手的罗德岛外科医生.txt'), 'w') as f:\n",
    "    for section in tqdm(novel.keys()):\n",
    "        f.write(f'\\n{section}\\n')\n",
    "        f.write(novel[section])"
   ]
  },
  {
   "cell_type": "code",
   "execution_count": null,
   "id": "9111c1ae",
   "metadata": {},
   "outputs": [],
   "source": []
  }
 ],
 "metadata": {
  "kernelspec": {
   "display_name": "Python 3 (ipykernel)",
   "language": "python",
   "name": "python3"
  },
  "language_info": {
   "codemirror_mode": {
    "name": "ipython",
    "version": 3
   },
   "file_extension": ".py",
   "mimetype": "text/x-python",
   "name": "python",
   "nbconvert_exporter": "python",
   "pygments_lexer": "ipython3",
   "version": "3.9.12"
  }
 },
 "nbformat": 4,
 "nbformat_minor": 5
}
