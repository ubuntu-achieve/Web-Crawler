{
 "cells": [
  {
   "cell_type": "code",
   "execution_count": 7,
   "id": "cb471ed2",
   "metadata": {},
   "outputs": [],
   "source": [
    "import os\n",
    "import json\n",
    "import math\n",
    "import requests\n",
    "import threading"
   ]
  },
  {
   "cell_type": "code",
   "execution_count": 4,
   "id": "a8eea3eb",
   "metadata": {},
   "outputs": [],
   "source": [
    "papers = [\n",
    "    \"e53b0327a7fa0dcf04df3362a128cca1\",\n",
    "    \"ec39ef1c6da3b6ea521b67b34c7562ba\",\n",
    "    \"04ae1eea2b4a25a8d3a500da8eed6e14\",\n",
    "    \"d434c150940b3cfef79581df7dddad91\",\n",
    "    \"d8b0599f4ba4cebc546d130f2e443de6\",\n",
    "    \"d816c362f8597ce8f568156d869655f7\",\n",
    "    \"3a51292c9c3ffd07d4b56f5ab0db6ece\",\n",
    "    \"f8556123c87e758b3552595c3beb809e\",\n",
    "    \"1288767ecd10342eb528e0f9b7ddc7cc\",\n",
    "    \"e043eb4621ab55d33e65eba325195f61\",\n",
    "    \"e53b0327a7fa0dcf04df3362a128cca1\",\n",
    "    \"a52dcf00127184230ebf917617cb37d4\",\n",
    "    \"08e86ada05099b7de2b24c8577b22073\",\n",
    "    \"6022ae042a0e77907d71cbc484b3c305\",\n",
    "    \"17d8319a18421df3d4e2a728066bf126\",\n",
    "    \"76f84b918433d7b3121eb267b1b8f579\",\n",
    "    \"4a0b15f96f14db8aaf4ca0893bd8e1db\"\n",
    "]\n",
    "\n",
    "name_url = \"https://kd.nsfc.gov.cn/api/baseQuery/projectInfluenceAnalysisData\"\n",
    "info_url = \"https://kd.nsfc.gov.cn/api/baseQuery/completeProjectReport\"\n",
    "img_url  = \"https://kd.nsfc.gov.cn/\"\n",
    "headers  = {\n",
    "    'User-Agent': 'Mozilla/5.0 (Linux; Android 4.0.4; Galaxy Nexus Build/IMM76B) AppleWebKit/535.19 (KHTML, like Gecko) Chrome/18.0.1025.133 Mobile Safari/535.19',\n",
    "    \"Content-Type\": \"application/x-www-form-urlencoded\",\n",
    "    \"Accept-Language\": \"zh-CN,zh;q=0.9,en;q=0.8\"\n",
    "}\n"
   ]
  },
  {
   "cell_type": "code",
   "execution_count": 47,
   "id": "59f254e4",
   "metadata": {},
   "outputs": [],
   "source": [
    "def get_paper(begin, end):\n",
    "    '''\n",
    "    begin:批量下载文献的起始索引\n",
    "    end:批量下载文件的结束索引\n",
    "    '''\n",
    "    for index in range(begin, end):\n",
    "        fromdata1 = {\n",
    "            \"projectID\": papers[index]\n",
    "        }\n",
    "        paper_name = requests.post(\"https://kd.nsfc.gov.cn/api/baseQuery/projectInfluenceAnalysisData\",headers=headers,data=fromdata1)\n",
    "        paper_name = json.loads(paper_name.text)[\"data\"][0]['chineseTitle']\n",
    "        try:\n",
    "            os.mkdir(paper_name)\n",
    "        except:\n",
    "            pass\n",
    "        img_index = 1\n",
    "        while True:\n",
    "            print(\"\\r正在下载《%s》\\t第%d页\"%(paper_name, img_index-1), end='')\n",
    "            fromdata2 = {\n",
    "                \"id\":papers[index],\n",
    "                \"index\":str(img_index)\n",
    "            }\n",
    "            img_path = requests.post(\"https://kd.nsfc.gov.cn/api/baseQuery/completeProjectReport\",headers=headers,data=fromdata2)\n",
    "            img_path = json.loads(img_path.text)[\"data\"][\"url\"]\n",
    "            img      = requests.get(img_url + img_path)\n",
    "            if img.status_code != 200:\n",
    "                break\n",
    "            with open(os.path.join(paper_name, \"%d.png\"%(img_index-1)), 'wb') as f:\n",
    "                f.write(img.content)\n",
    "            img_index += 1"
   ]
  },
  {
   "cell_type": "code",
   "execution_count": 49,
   "id": "62da959a",
   "metadata": {},
   "outputs": [],
   "source": [
    "def mutl_threading_download(num):\n",
    "    '''\n",
    "    num: 下载的线程数\n",
    "    '''\n",
    "    number        = math.ceil(len(papers)/num)\n",
    "    download_list = []\n",
    "    print(\"%d线程下载\"%num)\n",
    "    for i in range(num):\n",
    "        download_list.append(threading.Thread(target=get_paper, args=(i*number,(i+1)*number), name=\"Job%d\"%i))\n",
    "        download_list[-1].setDaemon(True)\n",
    "        download_list[-1].start()"
   ]
  },
  {
   "cell_type": "code",
   "execution_count": 13,
   "id": "f0c88934",
   "metadata": {},
   "outputs": [
    {
     "name": "stdout",
     "output_type": "stream",
     "text": [
      "0 在线自学习动态热舒适模型预测的室内热环境智能控制研究 e53b0327a7fa0dcf04df3362a128cca1\n",
      "1 基于物联网和群演化神经模糊控制的智能微灌技术研究 ec39ef1c6da3b6ea521b67b34c7562ba\n",
      "2 面向智能温室物联网的分布式实时复杂事件处理研究 04ae1eea2b4a25a8d3a500da8eed6e14\n",
      "3 基于物联网的准噶尔盆地南缘绿洲-荒漠交错带水资源调控研究 d434c150940b3cfef79581df7dddad91\n",
      "4 基于物联网和ISM的草原生态环境监测与智能决策关键技术研究 d8b0599f4ba4cebc546d130f2e443de6\n",
      "5 基于多环境因子的新疆棉叶螨时空动态监测模型研究 d816c362f8597ce8f568156d869655f7\n",
      "6 多场耦合条件下的莫高窟洞窟热湿环境调控理论与技术研究 3a51292c9c3ffd07d4b56f5ab0db6ece\n",
      "7 温室环境作物生长模型与环境优化调控 f8556123c87e758b3552595c3beb809e\n",
      "8 基于高频协同观测的土壤CO2、CH4、N2O通量变化耦联关系及解耦机制研究 1288767ecd10342eb528e0f9b7ddc7cc\n",
      "9 建筑室内非均匀湿度环境营造中的在线控制优化算法研究 e043eb4621ab55d33e65eba325195f61\n",
      "10 在线自学习动态热舒适模型预测的室内热环境智能控制研究 e53b0327a7fa0dcf04df3362a128cca1\n",
      "11 基于红外光谱和图像信息的工业结晶过程在线监测与控制优化 a52dcf00127184230ebf917617cb37d4\n",
      "12 一类储粮与环境联动系统的建模及分布式控制方法研究 08e86ada05099b7de2b24c8577b22073\n",
      "13 物联网温室环境控制系统随机模型建立及鲁棒控制研究 6022ae042a0e77907d71cbc484b3c305\n",
      "14 基于物联网的多级多层次农作物产地环境数据融合算法研究 17d8319a18421df3d4e2a728066bf126\n",
      "15 温室系统的智能优化控制方法研究 76f84b918433d7b3121eb267b1b8f579\n",
      "16 基于动态多尺度分析的水产养殖水质非线性组合预测模型研究 4a0b15f96f14db8aaf4ca0893bd8e1db\n"
     ]
    }
   ],
   "source": [
    "all_name = []\n",
    "for index in range(len(papers)):\n",
    "    fromdata1 = {\n",
    "        \"projectID\": papers[index]\n",
    "    }\n",
    "    paper_name = requests.post(\"https://kd.nsfc.gov.cn/api/baseQuery/projectInfluenceAnalysisData\",headers=headers,data=fromdata1)\n",
    "    paper_name = json.loads(paper_name.text)[\"data\"][0]['chineseTitle']\n",
    "    \n",
    "    if paper_name not in [i for i in os.listdir() if \".\"not in i]:\n",
    "        print(index, paper_name, papers[index], \"not\")\n",
    "    else:\n",
    "        print(index, paper_name, papers[index])"
   ]
  },
  {
   "cell_type": "code",
   "execution_count": 19,
   "id": "73576ea5",
   "metadata": {},
   "outputs": [
    {
     "data": {
      "text/plain": [
       "10"
      ]
     },
     "execution_count": 19,
     "metadata": {},
     "output_type": "execute_result"
    }
   ],
   "source": [
    "papers[1:].index(max(papers,key=papers.count))+1"
   ]
  },
  {
   "cell_type": "code",
   "execution_count": null,
   "id": "778bf8d8",
   "metadata": {},
   "outputs": [],
   "source": []
  }
 ],
 "metadata": {
  "kernelspec": {
   "display_name": "Python 3.9.12 ('base')",
   "language": "python",
   "name": "python3"
  },
  "language_info": {
   "codemirror_mode": {
    "name": "ipython",
    "version": 3
   },
   "file_extension": ".py",
   "mimetype": "text/x-python",
   "name": "python",
   "nbconvert_exporter": "python",
   "pygments_lexer": "ipython3",
   "version": "3.9.12"
  },
  "vscode": {
   "interpreter": {
    "hash": "88279d2366fe020547cde40dd65aa0e3aa662a6ec1f3ca12d88834876c85e1a6"
   }
  }
 },
 "nbformat": 4,
 "nbformat_minor": 5
}
